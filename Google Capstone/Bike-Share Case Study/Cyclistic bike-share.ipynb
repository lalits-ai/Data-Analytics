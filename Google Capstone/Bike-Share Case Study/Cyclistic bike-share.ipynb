{
 "cells": [
  {
   "cell_type": "markdown",
   "id": "66ef9427-cd0a-42e0-bc56-1a42be24c881",
   "metadata": {},
   "source": [
    "# Introduction\n",
    "\n",
    "This is a capstone project for my Google Data Analytics course.\n",
    "\n",
    "Tool used:\n",
    "* Python - Programming Language\n",
    "* Jupyter Notebook - Language Platform"
   ]
  },
  {
   "cell_type": "markdown",
   "id": "8df4c736-23f9-41d5-968c-73fcd510e1a1",
   "metadata": {},
   "source": [
    "#### This project contains following phases of analysis:\n",
    "* Ask\n",
    "* Prepare\n",
    "* Process\n",
    "* Analyze\n",
    "* Share\n",
    "* Act"
   ]
  },
  {
   "cell_type": "markdown",
   "id": "a1dab361-4d26-40c7-bbc9-f3c90e096a5f",
   "metadata": {},
   "source": [
    "# Scenario\n",
    "You are a junior data analyst working on the marketing analyst team at Cyclistic, a bike-share\n",
    "company in Chicago. The director of marketing believes the company’s future success\n",
    "depends on maximizing the number of annual memberships. Therefore, your team wants to\n",
    "understand how casual riders and annual members use Cyclistic bikes differently. From these\n",
    "insights, your team will design a new marketing strategy to convert casual riders into annual\n",
    "members. But first, Cyclistic executives must approve your recommendations, so they must be\n",
    "backed up with compelling data insights and professional data visualizations."
   ]
  },
  {
   "cell_type": "markdown",
   "id": "1da1b0c9-1f6a-4c42-b7fd-f6ef89103cda",
   "metadata": {},
   "source": [
    "# Ask\n",
    "Three questions will guide the future marketing program:\n",
    "1. How do annual members and casual riders use Cyclistic bikes differently?\n",
    "2. Why would casual riders buy Cyclistic annual memberships?\n",
    "3. How can Cyclistic use digital media to influence casual riders to become members?\n",
    "\n",
    "*Moreno*, the Director of Marketing and your manager has assigned you the first question to answer: How do annual members and casual riders use Cyclistic bikes differently?"
   ]
  },
  {
   "cell_type": "markdown",
   "id": "e9a185d9-ab7f-4430-834b-fe9f9f23a82e",
   "metadata": {},
   "source": [
    "#### Key Tasks\n",
    "* Identify Key business task\n",
    "  * The objective of this project is to design marketing strategies to convert casual riders into annual members\n",
    "* Consider Stake Holders\n",
    "  * Cyclistic executive team, Director of Marketing (Lily Moreno), Marketing Analytics team.\n",
    "\n",
    "#### Deliverable\n",
    "* A clear statement of the business task\n",
    "  * Find the differences between annual members and casual riders"
   ]
  },
  {
   "cell_type": "markdown",
   "id": "38296138-80a2-4ab8-b70d-4204e9115315",
   "metadata": {},
   "source": [
    "# Prepare\n",
    "I will be using Cyclistic's historical trip data to analyze and identify trends. It is a [licenced](https://divvybikes.com/data-license-agreement) dataset. The datasets are availble [here](https://divvy-tripdata.s3.amazonaws.com/index.html)\n",
    "\n",
    "#### Key Tasks\n",
    "* Download data and store it appropriately\n",
    "  * Downloaded the previous 11 months(June, 2023 - April, 2024) and created a copy of all the data.\n",
    "* Identify how it's organized\n",
    "  * The datasets are in (.xlsx) files. The columns are \"ride_id\",\"rideable_type\",\"started_at\",\"ended_at\",\"start_station_name\",\n",
    "    \"start_station_id\",\"end_station_name\",\"end_station_id\",\"start_lat\",\"start_lng\",\"end_lat\",\"end_lng\",\"member_casual\".\n",
    "* Sort and Filter the data\n",
    "  * I will be analyzing the past 11 months of data\n",
    "* Determine the credibility of the data\n",
    "  * This is a public dataset that I am allowed to use. But due to data-privacy issues I am prohibited from using rider's personally\n",
    "    identifiable information. This means that I won’t be able to connect pass purchases to credit card numbers to determine if casual            riders live in the Cyclistic service area or if they have purchased multiple single passes.\n",
    "\n",
    "#### Deliverable\n",
    "* A description of all datasets used\n",
    "  * The main dataset is provided by the [Cyclistic Company](https://divvy-tripdata.s3.amazonaws.com/index.html)\n",
    "\n",
    "#### Importing the datasets as excel, merging into one dataset and then converting it into csv files for analysis."
   ]
  },
  {
   "cell_type": "code",
   "execution_count": 50,
   "id": "658ddaba-1477-4bb4-982d-1b014750c3b5",
   "metadata": {},
   "outputs": [],
   "source": [
    "import pandas as pd\n",
    "import seaborn as sns\n",
    "import matplotlib.pyplot as plt\n",
    "%matplotlib inline"
   ]
  },
  {
   "cell_type": "code",
   "execution_count": 2,
   "id": "97a6e153-ec86-46be-ade0-7f8238337d93",
   "metadata": {},
   "outputs": [],
   "source": [
    "apr_2024 = pd.read_excel(\"C:\\\\Users\\\\lalit\\\\Dropbox\\\\Manipal Syllabus\\\\Sem 2\\\\Data Analytics\\\\Projects\\\\Google Capstone Project\\\\Case Study 1 - Bike-Share\\\\Datasets\\\\copy of all\\\\apr_2024.xlsx\")"
   ]
  },
  {
   "cell_type": "code",
   "execution_count": 3,
   "id": "c12eedde-8923-40fd-bbe7-bd23116f3400",
   "metadata": {},
   "outputs": [],
   "source": [
    "june_2023 = pd.read_excel(\"C:\\\\Users\\\\lalit\\\\Dropbox\\\\Manipal Syllabus\\\\Sem 2\\\\Data Analytics\\\\Projects\\\\Google Capstone Project\\\\Case Study 1 - Bike-Share\\\\Datasets\\\\copy of all\\\\june_2023.xlsx\")"
   ]
  },
  {
   "cell_type": "code",
   "execution_count": 4,
   "id": "2ee034b4-eaae-4ed0-be70-3c85dbfd4a5a",
   "metadata": {},
   "outputs": [],
   "source": [
    "july_2023 = pd.read_excel(\"C:\\\\Users\\\\lalit\\\\Dropbox\\\\Manipal Syllabus\\\\Sem 2\\\\Data Analytics\\\\Projects\\\\Google Capstone Project\\\\Case Study 1 - Bike-Share\\\\Datasets\\\\copy of all\\\\july_2023.xlsx\")\n",
    "aug_2023 = pd.read_excel(\"C:\\\\Users\\\\lalit\\\\Dropbox\\\\Manipal Syllabus\\\\Sem 2\\\\Data Analytics\\\\Projects\\\\Google Capstone Project\\\\Case Study 1 - Bike-Share\\\\Datasets\\\\copy of all\\\\august_2023.xlsx\")\n",
    "sep_2023 = pd.read_excel(\"C:\\\\Users\\\\lalit\\\\Dropbox\\\\Manipal Syllabus\\\\Sem 2\\\\Data Analytics\\\\Projects\\\\Google Capstone Project\\\\Case Study 1 - Bike-Share\\\\Datasets\\\\copy of all\\\\sep_2023.xlsx\")\n",
    "oct_2023 = pd.read_excel(\"C:\\\\Users\\\\lalit\\\\Dropbox\\\\Manipal Syllabus\\\\Sem 2\\\\Data Analytics\\\\Projects\\\\Google Capstone Project\\\\Case Study 1 - Bike-Share\\\\Datasets\\\\copy of all\\\\oct_2023.xlsx\")\n",
    "nov_2023 = pd.read_excel(\"C:\\\\Users\\\\lalit\\\\Dropbox\\\\Manipal Syllabus\\\\Sem 2\\\\Data Analytics\\\\Projects\\\\Google Capstone Project\\\\Case Study 1 - Bike-Share\\\\Datasets\\\\copy of all\\\\nov_2023.xlsx\")\n",
    "dec_2023 = pd.read_excel(\"C:\\\\Users\\\\lalit\\\\Dropbox\\\\Manipal Syllabus\\\\Sem 2\\\\Data Analytics\\\\Projects\\\\Google Capstone Project\\\\Case Study 1 - Bike-Share\\\\Datasets\\\\copy of all\\\\dec_2023.xlsx\")\n",
    "jan_2024 = pd.read_excel(\"C:\\\\Users\\\\lalit\\\\Dropbox\\\\Manipal Syllabus\\\\Sem 2\\\\Data Analytics\\\\Projects\\\\Google Capstone Project\\\\Case Study 1 - Bike-Share\\\\Datasets\\\\copy of all\\\\jan_2024.xlsx\")\n",
    "feb_2024 = pd.read_excel(\"C:\\\\Users\\\\lalit\\\\Dropbox\\\\Manipal Syllabus\\\\Sem 2\\\\Data Analytics\\\\Projects\\\\Google Capstone Project\\\\Case Study 1 - Bike-Share\\\\Datasets\\\\copy of all\\\\feb_2024.xlsx\")\n",
    "mar_2024 = pd.read_excel(\"C:\\\\Users\\\\lalit\\\\Dropbox\\\\Manipal Syllabus\\\\Sem 2\\\\Data Analytics\\\\Projects\\\\Google Capstone Project\\\\Case Study 1 - Bike-Share\\\\Datasets\\\\copy of all\\\\mar_2024.xlsx\")"
   ]
  },
  {
   "cell_type": "code",
   "execution_count": 5,
   "id": "9ef0280d-8e66-402f-96d7-00e488da5e33",
   "metadata": {},
   "outputs": [
    {
     "data": {
      "text/html": [
       "<div>\n",
       "<style scoped>\n",
       "    .dataframe tbody tr th:only-of-type {\n",
       "        vertical-align: middle;\n",
       "    }\n",
       "\n",
       "    .dataframe tbody tr th {\n",
       "        vertical-align: top;\n",
       "    }\n",
       "\n",
       "    .dataframe thead th {\n",
       "        text-align: right;\n",
       "    }\n",
       "</style>\n",
       "<table border=\"1\" class=\"dataframe\">\n",
       "  <thead>\n",
       "    <tr style=\"text-align: right;\">\n",
       "      <th></th>\n",
       "      <th>ride_id</th>\n",
       "      <th>rideable_type</th>\n",
       "      <th>started_at</th>\n",
       "      <th>ended_at</th>\n",
       "      <th>start_station_name</th>\n",
       "      <th>start_station_id</th>\n",
       "      <th>end_station_name</th>\n",
       "      <th>end_station_id</th>\n",
       "      <th>start_lat</th>\n",
       "      <th>start_lng</th>\n",
       "      <th>end_lat</th>\n",
       "      <th>end_lng</th>\n",
       "      <th>member_casual</th>\n",
       "    </tr>\n",
       "  </thead>\n",
       "  <tbody>\n",
       "    <tr>\n",
       "      <th>0</th>\n",
       "      <td>6F1682AC40EB6F71</td>\n",
       "      <td>electric_bike</td>\n",
       "      <td>2023-06-05 13:34:12</td>\n",
       "      <td>2023-06-05 14:31:56</td>\n",
       "      <td>NaN</td>\n",
       "      <td>NaN</td>\n",
       "      <td>NaN</td>\n",
       "      <td>NaN</td>\n",
       "      <td>41.91</td>\n",
       "      <td>-87.69</td>\n",
       "      <td>41.91</td>\n",
       "      <td>-87.70</td>\n",
       "      <td>member</td>\n",
       "    </tr>\n",
       "    <tr>\n",
       "      <th>1</th>\n",
       "      <td>622A1686D64948EB</td>\n",
       "      <td>electric_bike</td>\n",
       "      <td>2023-06-05 01:30:22</td>\n",
       "      <td>2023-06-05 01:33:06</td>\n",
       "      <td>NaN</td>\n",
       "      <td>NaN</td>\n",
       "      <td>NaN</td>\n",
       "      <td>NaN</td>\n",
       "      <td>41.94</td>\n",
       "      <td>-87.65</td>\n",
       "      <td>41.94</td>\n",
       "      <td>-87.65</td>\n",
       "      <td>member</td>\n",
       "    </tr>\n",
       "    <tr>\n",
       "      <th>2</th>\n",
       "      <td>3C88859D926253B4</td>\n",
       "      <td>electric_bike</td>\n",
       "      <td>2023-06-20 18:15:49</td>\n",
       "      <td>2023-06-20 18:32:05</td>\n",
       "      <td>NaN</td>\n",
       "      <td>NaN</td>\n",
       "      <td>NaN</td>\n",
       "      <td>NaN</td>\n",
       "      <td>41.95</td>\n",
       "      <td>-87.68</td>\n",
       "      <td>41.92</td>\n",
       "      <td>-87.63</td>\n",
       "      <td>member</td>\n",
       "    </tr>\n",
       "    <tr>\n",
       "      <th>3</th>\n",
       "      <td>EAD8A5E0259DEC88</td>\n",
       "      <td>electric_bike</td>\n",
       "      <td>2023-06-19 14:56:00</td>\n",
       "      <td>2023-06-19 15:00:35</td>\n",
       "      <td>NaN</td>\n",
       "      <td>NaN</td>\n",
       "      <td>NaN</td>\n",
       "      <td>NaN</td>\n",
       "      <td>41.99</td>\n",
       "      <td>-87.65</td>\n",
       "      <td>41.98</td>\n",
       "      <td>-87.66</td>\n",
       "      <td>member</td>\n",
       "    </tr>\n",
       "    <tr>\n",
       "      <th>4</th>\n",
       "      <td>5A36F21930D6A55C</td>\n",
       "      <td>electric_bike</td>\n",
       "      <td>2023-06-19 15:03:34</td>\n",
       "      <td>2023-06-19 15:07:16</td>\n",
       "      <td>NaN</td>\n",
       "      <td>NaN</td>\n",
       "      <td>NaN</td>\n",
       "      <td>NaN</td>\n",
       "      <td>41.98</td>\n",
       "      <td>-87.66</td>\n",
       "      <td>41.99</td>\n",
       "      <td>-87.65</td>\n",
       "      <td>member</td>\n",
       "    </tr>\n",
       "  </tbody>\n",
       "</table>\n",
       "</div>"
      ],
      "text/plain": [
       "            ride_id  rideable_type          started_at            ended_at  \\\n",
       "0  6F1682AC40EB6F71  electric_bike 2023-06-05 13:34:12 2023-06-05 14:31:56   \n",
       "1  622A1686D64948EB  electric_bike 2023-06-05 01:30:22 2023-06-05 01:33:06   \n",
       "2  3C88859D926253B4  electric_bike 2023-06-20 18:15:49 2023-06-20 18:32:05   \n",
       "3  EAD8A5E0259DEC88  electric_bike 2023-06-19 14:56:00 2023-06-19 15:00:35   \n",
       "4  5A36F21930D6A55C  electric_bike 2023-06-19 15:03:34 2023-06-19 15:07:16   \n",
       "\n",
       "  start_station_name start_station_id end_station_name end_station_id  \\\n",
       "0                NaN              NaN              NaN            NaN   \n",
       "1                NaN              NaN              NaN            NaN   \n",
       "2                NaN              NaN              NaN            NaN   \n",
       "3                NaN              NaN              NaN            NaN   \n",
       "4                NaN              NaN              NaN            NaN   \n",
       "\n",
       "   start_lat  start_lng  end_lat  end_lng member_casual  \n",
       "0      41.91     -87.69    41.91   -87.70        member  \n",
       "1      41.94     -87.65    41.94   -87.65        member  \n",
       "2      41.95     -87.68    41.92   -87.63        member  \n",
       "3      41.99     -87.65    41.98   -87.66        member  \n",
       "4      41.98     -87.66    41.99   -87.65        member  "
      ]
     },
     "execution_count": 5,
     "metadata": {},
     "output_type": "execute_result"
    }
   ],
   "source": [
    "data_list = [june_2023,july_2023,aug_2023,sep_2023,oct_2023,nov_2023,dec_2023,jan_2024,feb_2024,mar_2024,apr_2024]\n",
    "dataset = pd.concat(data_list,ignore_index=True)\n",
    "dataset.head()"
   ]
  },
  {
   "cell_type": "code",
   "execution_count": 6,
   "id": "61a6b37d-b143-4019-91fe-d7b3f11036ad",
   "metadata": {},
   "outputs": [],
   "source": [
    "dataset.to_csv(\"C:\\\\Users\\\\lalit\\\\Dropbox\\\\Manipal Syllabus\\\\Sem 2\\\\Data Analytics\\\\Projects\\\\Google Capstone Project\\\\Case Study 1 - Bike-Share\\\\Datasets\\\\copy of all\\\\combined_dataset.csv\",index=False)"
   ]
  },
  {
   "cell_type": "code",
   "execution_count": 7,
   "id": "42dcec86-2ed6-40f1-a74e-bfa465a25d4c",
   "metadata": {},
   "outputs": [],
   "source": [
    "df = pd.read_csv(\"C:\\\\Users\\\\lalit\\\\Dropbox\\\\Manipal Syllabus\\\\Sem 2\\\\Data Analytics\\\\Projects\\\\Google Capstone Project\\\\Case Study 1 - Bike-Share\\\\Datasets\\\\copy of all\\\\combined_dataset.csv\")"
   ]
  },
  {
   "cell_type": "code",
   "execution_count": 8,
   "id": "2ea315e3-0028-4e35-bcf0-e9f9a2698393",
   "metadata": {},
   "outputs": [
    {
     "data": {
      "text/html": [
       "<div>\n",
       "<style scoped>\n",
       "    .dataframe tbody tr th:only-of-type {\n",
       "        vertical-align: middle;\n",
       "    }\n",
       "\n",
       "    .dataframe tbody tr th {\n",
       "        vertical-align: top;\n",
       "    }\n",
       "\n",
       "    .dataframe thead th {\n",
       "        text-align: right;\n",
       "    }\n",
       "</style>\n",
       "<table border=\"1\" class=\"dataframe\">\n",
       "  <thead>\n",
       "    <tr style=\"text-align: right;\">\n",
       "      <th></th>\n",
       "      <th>ride_id</th>\n",
       "      <th>rideable_type</th>\n",
       "      <th>started_at</th>\n",
       "      <th>ended_at</th>\n",
       "      <th>start_station_name</th>\n",
       "      <th>start_station_id</th>\n",
       "      <th>end_station_name</th>\n",
       "      <th>end_station_id</th>\n",
       "      <th>start_lat</th>\n",
       "      <th>start_lng</th>\n",
       "      <th>end_lat</th>\n",
       "      <th>end_lng</th>\n",
       "      <th>member_casual</th>\n",
       "    </tr>\n",
       "  </thead>\n",
       "  <tbody>\n",
       "    <tr>\n",
       "      <th>0</th>\n",
       "      <td>6F1682AC40EB6F71</td>\n",
       "      <td>electric_bike</td>\n",
       "      <td>2023-06-05 13:34:12</td>\n",
       "      <td>2023-06-05 14:31:56</td>\n",
       "      <td>NaN</td>\n",
       "      <td>NaN</td>\n",
       "      <td>NaN</td>\n",
       "      <td>NaN</td>\n",
       "      <td>41.91</td>\n",
       "      <td>-87.69</td>\n",
       "      <td>41.91</td>\n",
       "      <td>-87.70</td>\n",
       "      <td>member</td>\n",
       "    </tr>\n",
       "    <tr>\n",
       "      <th>1</th>\n",
       "      <td>622A1686D64948EB</td>\n",
       "      <td>electric_bike</td>\n",
       "      <td>2023-06-05 01:30:22</td>\n",
       "      <td>2023-06-05 01:33:06</td>\n",
       "      <td>NaN</td>\n",
       "      <td>NaN</td>\n",
       "      <td>NaN</td>\n",
       "      <td>NaN</td>\n",
       "      <td>41.94</td>\n",
       "      <td>-87.65</td>\n",
       "      <td>41.94</td>\n",
       "      <td>-87.65</td>\n",
       "      <td>member</td>\n",
       "    </tr>\n",
       "    <tr>\n",
       "      <th>2</th>\n",
       "      <td>3C88859D926253B4</td>\n",
       "      <td>electric_bike</td>\n",
       "      <td>2023-06-20 18:15:49</td>\n",
       "      <td>2023-06-20 18:32:05</td>\n",
       "      <td>NaN</td>\n",
       "      <td>NaN</td>\n",
       "      <td>NaN</td>\n",
       "      <td>NaN</td>\n",
       "      <td>41.95</td>\n",
       "      <td>-87.68</td>\n",
       "      <td>41.92</td>\n",
       "      <td>-87.63</td>\n",
       "      <td>member</td>\n",
       "    </tr>\n",
       "    <tr>\n",
       "      <th>3</th>\n",
       "      <td>EAD8A5E0259DEC88</td>\n",
       "      <td>electric_bike</td>\n",
       "      <td>2023-06-19 14:56:00</td>\n",
       "      <td>2023-06-19 15:00:35</td>\n",
       "      <td>NaN</td>\n",
       "      <td>NaN</td>\n",
       "      <td>NaN</td>\n",
       "      <td>NaN</td>\n",
       "      <td>41.99</td>\n",
       "      <td>-87.65</td>\n",
       "      <td>41.98</td>\n",
       "      <td>-87.66</td>\n",
       "      <td>member</td>\n",
       "    </tr>\n",
       "    <tr>\n",
       "      <th>4</th>\n",
       "      <td>5A36F21930D6A55C</td>\n",
       "      <td>electric_bike</td>\n",
       "      <td>2023-06-19 15:03:34</td>\n",
       "      <td>2023-06-19 15:07:16</td>\n",
       "      <td>NaN</td>\n",
       "      <td>NaN</td>\n",
       "      <td>NaN</td>\n",
       "      <td>NaN</td>\n",
       "      <td>41.98</td>\n",
       "      <td>-87.66</td>\n",
       "      <td>41.99</td>\n",
       "      <td>-87.65</td>\n",
       "      <td>member</td>\n",
       "    </tr>\n",
       "  </tbody>\n",
       "</table>\n",
       "</div>"
      ],
      "text/plain": [
       "            ride_id  rideable_type           started_at             ended_at  \\\n",
       "0  6F1682AC40EB6F71  electric_bike  2023-06-05 13:34:12  2023-06-05 14:31:56   \n",
       "1  622A1686D64948EB  electric_bike  2023-06-05 01:30:22  2023-06-05 01:33:06   \n",
       "2  3C88859D926253B4  electric_bike  2023-06-20 18:15:49  2023-06-20 18:32:05   \n",
       "3  EAD8A5E0259DEC88  electric_bike  2023-06-19 14:56:00  2023-06-19 15:00:35   \n",
       "4  5A36F21930D6A55C  electric_bike  2023-06-19 15:03:34  2023-06-19 15:07:16   \n",
       "\n",
       "  start_station_name start_station_id end_station_name end_station_id  \\\n",
       "0                NaN              NaN              NaN            NaN   \n",
       "1                NaN              NaN              NaN            NaN   \n",
       "2                NaN              NaN              NaN            NaN   \n",
       "3                NaN              NaN              NaN            NaN   \n",
       "4                NaN              NaN              NaN            NaN   \n",
       "\n",
       "   start_lat  start_lng  end_lat  end_lng member_casual  \n",
       "0      41.91     -87.69    41.91   -87.70        member  \n",
       "1      41.94     -87.65    41.94   -87.65        member  \n",
       "2      41.95     -87.68    41.92   -87.63        member  \n",
       "3      41.99     -87.65    41.98   -87.66        member  \n",
       "4      41.98     -87.66    41.99   -87.65        member  "
      ]
     },
     "execution_count": 8,
     "metadata": {},
     "output_type": "execute_result"
    }
   ],
   "source": [
    "df.head()"
   ]
  },
  {
   "cell_type": "markdown",
   "id": "f96c2062-e18c-4568-bdbd-98056623bf1f",
   "metadata": {},
   "source": [
    "# Process\n",
    "This stage involves cleaning and processing the data.\n",
    "#### Cleaning usually involves:\n",
    "* Missing values\n",
    "* Duplicates\n",
    "* Outliers\n",
    "#### Key Tasks\n",
    "* What tools are you choosing and why?\n",
    "  * I chose Python for cleaning and analyzing the dataset as I feel comfortable with Python and also it is very efficient and fast in\n",
    "    computing lots of data unlike spreadsheets.\n",
    "* Have you ensured your data's itegrity\n",
    "  * The dataset is made available to the public under the [license](https://divvybikes.com/data-license-agreement).\n",
    "* What steps have you taken to ensure your data is clean?\n",
    "  * I have removed all the missing values and also checked for any duplicates\n",
    "* Tranform the data to work with it effectively\n",
    "* Document the process\n",
    "\n",
    "#### Following is the process of cleaning and transforming the data"
   ]
  },
  {
   "cell_type": "code",
   "execution_count": 9,
   "id": "ebef3653-eccb-46b6-a0aa-f12354702a29",
   "metadata": {},
   "outputs": [
    {
     "data": {
      "text/plain": [
       "ride_id               False\n",
       "rideable_type         False\n",
       "started_at            False\n",
       "ended_at              False\n",
       "start_station_name     True\n",
       "start_station_id       True\n",
       "end_station_name       True\n",
       "end_station_id         True\n",
       "start_lat             False\n",
       "start_lng             False\n",
       "end_lat                True\n",
       "end_lng                True\n",
       "member_casual         False\n",
       "dtype: bool"
      ]
     },
     "execution_count": 9,
     "metadata": {},
     "output_type": "execute_result"
    }
   ],
   "source": [
    "df.isnull().any()"
   ]
  },
  {
   "cell_type": "code",
   "execution_count": 10,
   "id": "0801116b-be96-4882-a2ad-d23eb6068bcf",
   "metadata": {},
   "outputs": [],
   "source": [
    "df = df.dropna()"
   ]
  },
  {
   "cell_type": "code",
   "execution_count": 11,
   "id": "9e5eac84-4f61-4a91-8401-ef87ad8a0284",
   "metadata": {},
   "outputs": [
    {
     "data": {
      "text/plain": [
       "ride_id               False\n",
       "rideable_type         False\n",
       "started_at            False\n",
       "ended_at              False\n",
       "start_station_name    False\n",
       "start_station_id      False\n",
       "end_station_name      False\n",
       "end_station_id        False\n",
       "start_lat             False\n",
       "start_lng             False\n",
       "end_lat               False\n",
       "end_lng               False\n",
       "member_casual         False\n",
       "dtype: bool"
      ]
     },
     "execution_count": 11,
     "metadata": {},
     "output_type": "execute_result"
    }
   ],
   "source": [
    "df.isnull().any()"
   ]
  },
  {
   "cell_type": "code",
   "execution_count": 12,
   "id": "d291c635-3cca-48d3-abe7-1f05568b4b57",
   "metadata": {},
   "outputs": [
    {
     "data": {
      "text/plain": [
       "False"
      ]
     },
     "execution_count": 12,
     "metadata": {},
     "output_type": "execute_result"
    }
   ],
   "source": [
    "df.duplicated().any()"
   ]
  },
  {
   "cell_type": "code",
   "execution_count": 13,
   "id": "107a5a1a-4240-45c4-8aa0-84048bc82d39",
   "metadata": {},
   "outputs": [
    {
     "name": "stdout",
     "output_type": "stream",
     "text": [
      "<class 'pandas.core.frame.DataFrame'>\n",
      "Index: 3872612 entries, 554 to 5133781\n",
      "Data columns (total 13 columns):\n",
      " #   Column              Dtype  \n",
      "---  ------              -----  \n",
      " 0   ride_id             object \n",
      " 1   rideable_type       object \n",
      " 2   started_at          object \n",
      " 3   ended_at            object \n",
      " 4   start_station_name  object \n",
      " 5   start_station_id    object \n",
      " 6   end_station_name    object \n",
      " 7   end_station_id      object \n",
      " 8   start_lat           float64\n",
      " 9   start_lng           float64\n",
      " 10  end_lat             float64\n",
      " 11  end_lng             float64\n",
      " 12  member_casual       object \n",
      "dtypes: float64(4), object(9)\n",
      "memory usage: 413.6+ MB\n"
     ]
    }
   ],
   "source": [
    "df.info()"
   ]
  },
  {
   "cell_type": "code",
   "execution_count": 14,
   "id": "dd5f59ef-b462-497c-8275-35a234b31740",
   "metadata": {},
   "outputs": [],
   "source": [
    "df['started_at'] = pd.to_datetime(df['started_at'])\n",
    "df['ended_at'] = pd.to_datetime(df['ended_at'])"
   ]
  },
  {
   "cell_type": "code",
   "execution_count": 15,
   "id": "ecd25c01-1b40-404f-8bf4-241bd8141baa",
   "metadata": {},
   "outputs": [
    {
     "name": "stdout",
     "output_type": "stream",
     "text": [
      "<class 'pandas.core.frame.DataFrame'>\n",
      "Index: 3872612 entries, 554 to 5133781\n",
      "Data columns (total 13 columns):\n",
      " #   Column              Dtype         \n",
      "---  ------              -----         \n",
      " 0   ride_id             object        \n",
      " 1   rideable_type       object        \n",
      " 2   started_at          datetime64[ns]\n",
      " 3   ended_at            datetime64[ns]\n",
      " 4   start_station_name  object        \n",
      " 5   start_station_id    object        \n",
      " 6   end_station_name    object        \n",
      " 7   end_station_id      object        \n",
      " 8   start_lat           float64       \n",
      " 9   start_lng           float64       \n",
      " 10  end_lat             float64       \n",
      " 11  end_lng             float64       \n",
      " 12  member_casual       object        \n",
      "dtypes: datetime64[ns](2), float64(4), object(7)\n",
      "memory usage: 413.6+ MB\n"
     ]
    }
   ],
   "source": [
    "df.info()"
   ]
  },
  {
   "cell_type": "code",
   "execution_count": 16,
   "id": "5cf7c491-cee5-4d15-aef9-e76bf8454769",
   "metadata": {},
   "outputs": [
    {
     "data": {
      "text/html": [
       "<div>\n",
       "<style scoped>\n",
       "    .dataframe tbody tr th:only-of-type {\n",
       "        vertical-align: middle;\n",
       "    }\n",
       "\n",
       "    .dataframe tbody tr th {\n",
       "        vertical-align: top;\n",
       "    }\n",
       "\n",
       "    .dataframe thead th {\n",
       "        text-align: right;\n",
       "    }\n",
       "</style>\n",
       "<table border=\"1\" class=\"dataframe\">\n",
       "  <thead>\n",
       "    <tr style=\"text-align: right;\">\n",
       "      <th></th>\n",
       "      <th>ride_id</th>\n",
       "      <th>rideable_type</th>\n",
       "      <th>started_at</th>\n",
       "      <th>ended_at</th>\n",
       "      <th>start_station_name</th>\n",
       "      <th>start_station_id</th>\n",
       "      <th>end_station_name</th>\n",
       "      <th>end_station_id</th>\n",
       "      <th>start_lat</th>\n",
       "      <th>start_lng</th>\n",
       "      <th>end_lat</th>\n",
       "      <th>end_lng</th>\n",
       "      <th>member_casual</th>\n",
       "      <th>ride_length</th>\n",
       "    </tr>\n",
       "  </thead>\n",
       "  <tbody>\n",
       "    <tr>\n",
       "      <th>554</th>\n",
       "      <td>055E6783FCD761FD</td>\n",
       "      <td>electric_bike</td>\n",
       "      <td>2023-06-06 20:58:13</td>\n",
       "      <td>2023-06-06 21:04:00</td>\n",
       "      <td>California Ave &amp; Milwaukee Ave</td>\n",
       "      <td>13084</td>\n",
       "      <td>California Ave &amp; Division St</td>\n",
       "      <td>13256</td>\n",
       "      <td>41.922618</td>\n",
       "      <td>-87.697106</td>\n",
       "      <td>41.903029</td>\n",
       "      <td>-87.697474</td>\n",
       "      <td>member</td>\n",
       "      <td>0 days 00:05:47</td>\n",
       "    </tr>\n",
       "    <tr>\n",
       "      <th>707</th>\n",
       "      <td>65BC2A1FC12CFFA4</td>\n",
       "      <td>classic_bike</td>\n",
       "      <td>2023-06-28 18:21:26</td>\n",
       "      <td>2023-06-28 18:56:06</td>\n",
       "      <td>Cottage Grove Ave &amp; 51st St</td>\n",
       "      <td>TA1309000067</td>\n",
       "      <td>Cottage Grove Ave &amp; 51st St</td>\n",
       "      <td>TA1309000067</td>\n",
       "      <td>41.803038</td>\n",
       "      <td>-87.606615</td>\n",
       "      <td>41.803038</td>\n",
       "      <td>-87.606615</td>\n",
       "      <td>member</td>\n",
       "      <td>0 days 00:34:40</td>\n",
       "    </tr>\n",
       "    <tr>\n",
       "      <th>831</th>\n",
       "      <td>4D149B57532FE9C9</td>\n",
       "      <td>classic_bike</td>\n",
       "      <td>2023-06-30 09:53:16</td>\n",
       "      <td>2023-06-30 09:53:38</td>\n",
       "      <td>Western Ave &amp; Roscoe St</td>\n",
       "      <td>15634</td>\n",
       "      <td>Western Ave &amp; Roscoe St</td>\n",
       "      <td>15634</td>\n",
       "      <td>41.943034</td>\n",
       "      <td>-87.687288</td>\n",
       "      <td>41.943034</td>\n",
       "      <td>-87.687288</td>\n",
       "      <td>member</td>\n",
       "      <td>0 days 00:00:22</td>\n",
       "    </tr>\n",
       "    <tr>\n",
       "      <th>844</th>\n",
       "      <td>BAE48AFCA5C36414</td>\n",
       "      <td>classic_bike</td>\n",
       "      <td>2023-06-21 13:23:57</td>\n",
       "      <td>2023-06-21 13:24:16</td>\n",
       "      <td>Cottage Grove Ave &amp; 51st St</td>\n",
       "      <td>TA1309000067</td>\n",
       "      <td>Cottage Grove Ave &amp; 51st St</td>\n",
       "      <td>TA1309000067</td>\n",
       "      <td>41.803038</td>\n",
       "      <td>-87.606615</td>\n",
       "      <td>41.803038</td>\n",
       "      <td>-87.606615</td>\n",
       "      <td>member</td>\n",
       "      <td>0 days 00:00:19</td>\n",
       "    </tr>\n",
       "    <tr>\n",
       "      <th>845</th>\n",
       "      <td>E3491C5273700783</td>\n",
       "      <td>classic_bike</td>\n",
       "      <td>2023-06-21 13:24:46</td>\n",
       "      <td>2023-06-21 13:40:47</td>\n",
       "      <td>Cottage Grove Ave &amp; 51st St</td>\n",
       "      <td>TA1309000067</td>\n",
       "      <td>Cottage Grove Ave &amp; 51st St</td>\n",
       "      <td>TA1309000067</td>\n",
       "      <td>41.803038</td>\n",
       "      <td>-87.606615</td>\n",
       "      <td>41.803038</td>\n",
       "      <td>-87.606615</td>\n",
       "      <td>member</td>\n",
       "      <td>0 days 00:16:01</td>\n",
       "    </tr>\n",
       "  </tbody>\n",
       "</table>\n",
       "</div>"
      ],
      "text/plain": [
       "              ride_id  rideable_type          started_at            ended_at  \\\n",
       "554  055E6783FCD761FD  electric_bike 2023-06-06 20:58:13 2023-06-06 21:04:00   \n",
       "707  65BC2A1FC12CFFA4   classic_bike 2023-06-28 18:21:26 2023-06-28 18:56:06   \n",
       "831  4D149B57532FE9C9   classic_bike 2023-06-30 09:53:16 2023-06-30 09:53:38   \n",
       "844  BAE48AFCA5C36414   classic_bike 2023-06-21 13:23:57 2023-06-21 13:24:16   \n",
       "845  E3491C5273700783   classic_bike 2023-06-21 13:24:46 2023-06-21 13:40:47   \n",
       "\n",
       "                 start_station_name start_station_id  \\\n",
       "554  California Ave & Milwaukee Ave            13084   \n",
       "707     Cottage Grove Ave & 51st St     TA1309000067   \n",
       "831         Western Ave & Roscoe St            15634   \n",
       "844     Cottage Grove Ave & 51st St     TA1309000067   \n",
       "845     Cottage Grove Ave & 51st St     TA1309000067   \n",
       "\n",
       "                 end_station_name end_station_id  start_lat  start_lng  \\\n",
       "554  California Ave & Division St          13256  41.922618 -87.697106   \n",
       "707   Cottage Grove Ave & 51st St   TA1309000067  41.803038 -87.606615   \n",
       "831       Western Ave & Roscoe St          15634  41.943034 -87.687288   \n",
       "844   Cottage Grove Ave & 51st St   TA1309000067  41.803038 -87.606615   \n",
       "845   Cottage Grove Ave & 51st St   TA1309000067  41.803038 -87.606615   \n",
       "\n",
       "       end_lat    end_lng member_casual     ride_length  \n",
       "554  41.903029 -87.697474        member 0 days 00:05:47  \n",
       "707  41.803038 -87.606615        member 0 days 00:34:40  \n",
       "831  41.943034 -87.687288        member 0 days 00:00:22  \n",
       "844  41.803038 -87.606615        member 0 days 00:00:19  \n",
       "845  41.803038 -87.606615        member 0 days 00:16:01  "
      ]
     },
     "execution_count": 16,
     "metadata": {},
     "output_type": "execute_result"
    }
   ],
   "source": [
    "df['ride_length'] = df['ended_at'] - df['started_at']\n",
    "df.head()"
   ]
  },
  {
   "cell_type": "code",
   "execution_count": 17,
   "id": "7f4e5e60-45eb-4b39-a57a-72746387b6da",
   "metadata": {},
   "outputs": [],
   "source": [
    "df['ride_length_min'] = df['ride_length'].dt.total_seconds() / 60"
   ]
  },
  {
   "cell_type": "code",
   "execution_count": 18,
   "id": "5bbfe7d7-d8ed-42ba-88f6-65de5e6b4f9a",
   "metadata": {},
   "outputs": [
    {
     "data": {
      "text/html": [
       "<div>\n",
       "<style scoped>\n",
       "    .dataframe tbody tr th:only-of-type {\n",
       "        vertical-align: middle;\n",
       "    }\n",
       "\n",
       "    .dataframe tbody tr th {\n",
       "        vertical-align: top;\n",
       "    }\n",
       "\n",
       "    .dataframe thead th {\n",
       "        text-align: right;\n",
       "    }\n",
       "</style>\n",
       "<table border=\"1\" class=\"dataframe\">\n",
       "  <thead>\n",
       "    <tr style=\"text-align: right;\">\n",
       "      <th></th>\n",
       "      <th>ride_id</th>\n",
       "      <th>rideable_type</th>\n",
       "      <th>started_at</th>\n",
       "      <th>ended_at</th>\n",
       "      <th>start_station_name</th>\n",
       "      <th>start_station_id</th>\n",
       "      <th>end_station_name</th>\n",
       "      <th>end_station_id</th>\n",
       "      <th>start_lat</th>\n",
       "      <th>start_lng</th>\n",
       "      <th>end_lat</th>\n",
       "      <th>end_lng</th>\n",
       "      <th>member_casual</th>\n",
       "      <th>ride_length</th>\n",
       "      <th>ride_length_min</th>\n",
       "    </tr>\n",
       "  </thead>\n",
       "  <tbody>\n",
       "    <tr>\n",
       "      <th>554</th>\n",
       "      <td>055E6783FCD761FD</td>\n",
       "      <td>electric_bike</td>\n",
       "      <td>2023-06-06 20:58:13</td>\n",
       "      <td>2023-06-06 21:04:00</td>\n",
       "      <td>California Ave &amp; Milwaukee Ave</td>\n",
       "      <td>13084</td>\n",
       "      <td>California Ave &amp; Division St</td>\n",
       "      <td>13256</td>\n",
       "      <td>41.922618</td>\n",
       "      <td>-87.697106</td>\n",
       "      <td>41.903029</td>\n",
       "      <td>-87.697474</td>\n",
       "      <td>member</td>\n",
       "      <td>0 days 00:05:47</td>\n",
       "      <td>5.783333</td>\n",
       "    </tr>\n",
       "    <tr>\n",
       "      <th>707</th>\n",
       "      <td>65BC2A1FC12CFFA4</td>\n",
       "      <td>classic_bike</td>\n",
       "      <td>2023-06-28 18:21:26</td>\n",
       "      <td>2023-06-28 18:56:06</td>\n",
       "      <td>Cottage Grove Ave &amp; 51st St</td>\n",
       "      <td>TA1309000067</td>\n",
       "      <td>Cottage Grove Ave &amp; 51st St</td>\n",
       "      <td>TA1309000067</td>\n",
       "      <td>41.803038</td>\n",
       "      <td>-87.606615</td>\n",
       "      <td>41.803038</td>\n",
       "      <td>-87.606615</td>\n",
       "      <td>member</td>\n",
       "      <td>0 days 00:34:40</td>\n",
       "      <td>34.666667</td>\n",
       "    </tr>\n",
       "    <tr>\n",
       "      <th>831</th>\n",
       "      <td>4D149B57532FE9C9</td>\n",
       "      <td>classic_bike</td>\n",
       "      <td>2023-06-30 09:53:16</td>\n",
       "      <td>2023-06-30 09:53:38</td>\n",
       "      <td>Western Ave &amp; Roscoe St</td>\n",
       "      <td>15634</td>\n",
       "      <td>Western Ave &amp; Roscoe St</td>\n",
       "      <td>15634</td>\n",
       "      <td>41.943034</td>\n",
       "      <td>-87.687288</td>\n",
       "      <td>41.943034</td>\n",
       "      <td>-87.687288</td>\n",
       "      <td>member</td>\n",
       "      <td>0 days 00:00:22</td>\n",
       "      <td>0.366667</td>\n",
       "    </tr>\n",
       "    <tr>\n",
       "      <th>844</th>\n",
       "      <td>BAE48AFCA5C36414</td>\n",
       "      <td>classic_bike</td>\n",
       "      <td>2023-06-21 13:23:57</td>\n",
       "      <td>2023-06-21 13:24:16</td>\n",
       "      <td>Cottage Grove Ave &amp; 51st St</td>\n",
       "      <td>TA1309000067</td>\n",
       "      <td>Cottage Grove Ave &amp; 51st St</td>\n",
       "      <td>TA1309000067</td>\n",
       "      <td>41.803038</td>\n",
       "      <td>-87.606615</td>\n",
       "      <td>41.803038</td>\n",
       "      <td>-87.606615</td>\n",
       "      <td>member</td>\n",
       "      <td>0 days 00:00:19</td>\n",
       "      <td>0.316667</td>\n",
       "    </tr>\n",
       "    <tr>\n",
       "      <th>845</th>\n",
       "      <td>E3491C5273700783</td>\n",
       "      <td>classic_bike</td>\n",
       "      <td>2023-06-21 13:24:46</td>\n",
       "      <td>2023-06-21 13:40:47</td>\n",
       "      <td>Cottage Grove Ave &amp; 51st St</td>\n",
       "      <td>TA1309000067</td>\n",
       "      <td>Cottage Grove Ave &amp; 51st St</td>\n",
       "      <td>TA1309000067</td>\n",
       "      <td>41.803038</td>\n",
       "      <td>-87.606615</td>\n",
       "      <td>41.803038</td>\n",
       "      <td>-87.606615</td>\n",
       "      <td>member</td>\n",
       "      <td>0 days 00:16:01</td>\n",
       "      <td>16.016667</td>\n",
       "    </tr>\n",
       "  </tbody>\n",
       "</table>\n",
       "</div>"
      ],
      "text/plain": [
       "              ride_id  rideable_type          started_at            ended_at  \\\n",
       "554  055E6783FCD761FD  electric_bike 2023-06-06 20:58:13 2023-06-06 21:04:00   \n",
       "707  65BC2A1FC12CFFA4   classic_bike 2023-06-28 18:21:26 2023-06-28 18:56:06   \n",
       "831  4D149B57532FE9C9   classic_bike 2023-06-30 09:53:16 2023-06-30 09:53:38   \n",
       "844  BAE48AFCA5C36414   classic_bike 2023-06-21 13:23:57 2023-06-21 13:24:16   \n",
       "845  E3491C5273700783   classic_bike 2023-06-21 13:24:46 2023-06-21 13:40:47   \n",
       "\n",
       "                 start_station_name start_station_id  \\\n",
       "554  California Ave & Milwaukee Ave            13084   \n",
       "707     Cottage Grove Ave & 51st St     TA1309000067   \n",
       "831         Western Ave & Roscoe St            15634   \n",
       "844     Cottage Grove Ave & 51st St     TA1309000067   \n",
       "845     Cottage Grove Ave & 51st St     TA1309000067   \n",
       "\n",
       "                 end_station_name end_station_id  start_lat  start_lng  \\\n",
       "554  California Ave & Division St          13256  41.922618 -87.697106   \n",
       "707   Cottage Grove Ave & 51st St   TA1309000067  41.803038 -87.606615   \n",
       "831       Western Ave & Roscoe St          15634  41.943034 -87.687288   \n",
       "844   Cottage Grove Ave & 51st St   TA1309000067  41.803038 -87.606615   \n",
       "845   Cottage Grove Ave & 51st St   TA1309000067  41.803038 -87.606615   \n",
       "\n",
       "       end_lat    end_lng member_casual     ride_length  ride_length_min  \n",
       "554  41.903029 -87.697474        member 0 days 00:05:47         5.783333  \n",
       "707  41.803038 -87.606615        member 0 days 00:34:40        34.666667  \n",
       "831  41.943034 -87.687288        member 0 days 00:00:22         0.366667  \n",
       "844  41.803038 -87.606615        member 0 days 00:00:19         0.316667  \n",
       "845  41.803038 -87.606615        member 0 days 00:16:01        16.016667  "
      ]
     },
     "execution_count": 18,
     "metadata": {},
     "output_type": "execute_result"
    }
   ],
   "source": [
    "df.head()"
   ]
  },
  {
   "cell_type": "code",
   "execution_count": 19,
   "id": "9597eacd-de7a-4ff3-9f7d-1923fab3de65",
   "metadata": {},
   "outputs": [],
   "source": [
    "df.drop('ride_length',axis=1,inplace=True)"
   ]
  },
  {
   "cell_type": "code",
   "execution_count": 20,
   "id": "c023a13e-b24c-49bf-9959-b662835c4f57",
   "metadata": {},
   "outputs": [],
   "source": [
    "def custom_isoweekday(date):\n",
    "    iso_day = date.isoweekday()\n",
    "    return 1 if iso_day == 7 else iso_day + 1"
   ]
  },
  {
   "cell_type": "code",
   "execution_count": 21,
   "id": "6f9830cc-9653-4686-859b-c135765ebd6d",
   "metadata": {},
   "outputs": [],
   "source": [
    "df['day_of_week'] = df['started_at'].apply(custom_isoweekday)"
   ]
  },
  {
   "cell_type": "code",
   "execution_count": 22,
   "id": "391cc230-97ea-4107-8cb6-8be95890e7ab",
   "metadata": {},
   "outputs": [
    {
     "data": {
      "text/html": [
       "<div>\n",
       "<style scoped>\n",
       "    .dataframe tbody tr th:only-of-type {\n",
       "        vertical-align: middle;\n",
       "    }\n",
       "\n",
       "    .dataframe tbody tr th {\n",
       "        vertical-align: top;\n",
       "    }\n",
       "\n",
       "    .dataframe thead th {\n",
       "        text-align: right;\n",
       "    }\n",
       "</style>\n",
       "<table border=\"1\" class=\"dataframe\">\n",
       "  <thead>\n",
       "    <tr style=\"text-align: right;\">\n",
       "      <th></th>\n",
       "      <th>ride_id</th>\n",
       "      <th>rideable_type</th>\n",
       "      <th>started_at</th>\n",
       "      <th>ended_at</th>\n",
       "      <th>start_station_name</th>\n",
       "      <th>start_station_id</th>\n",
       "      <th>end_station_name</th>\n",
       "      <th>end_station_id</th>\n",
       "      <th>start_lat</th>\n",
       "      <th>start_lng</th>\n",
       "      <th>end_lat</th>\n",
       "      <th>end_lng</th>\n",
       "      <th>member_casual</th>\n",
       "      <th>ride_length_min</th>\n",
       "      <th>day_of_week</th>\n",
       "    </tr>\n",
       "  </thead>\n",
       "  <tbody>\n",
       "    <tr>\n",
       "      <th>554</th>\n",
       "      <td>055E6783FCD761FD</td>\n",
       "      <td>electric_bike</td>\n",
       "      <td>2023-06-06 20:58:13</td>\n",
       "      <td>2023-06-06 21:04:00</td>\n",
       "      <td>California Ave &amp; Milwaukee Ave</td>\n",
       "      <td>13084</td>\n",
       "      <td>California Ave &amp; Division St</td>\n",
       "      <td>13256</td>\n",
       "      <td>41.922618</td>\n",
       "      <td>-87.697106</td>\n",
       "      <td>41.903029</td>\n",
       "      <td>-87.697474</td>\n",
       "      <td>member</td>\n",
       "      <td>5.783333</td>\n",
       "      <td>3</td>\n",
       "    </tr>\n",
       "    <tr>\n",
       "      <th>707</th>\n",
       "      <td>65BC2A1FC12CFFA4</td>\n",
       "      <td>classic_bike</td>\n",
       "      <td>2023-06-28 18:21:26</td>\n",
       "      <td>2023-06-28 18:56:06</td>\n",
       "      <td>Cottage Grove Ave &amp; 51st St</td>\n",
       "      <td>TA1309000067</td>\n",
       "      <td>Cottage Grove Ave &amp; 51st St</td>\n",
       "      <td>TA1309000067</td>\n",
       "      <td>41.803038</td>\n",
       "      <td>-87.606615</td>\n",
       "      <td>41.803038</td>\n",
       "      <td>-87.606615</td>\n",
       "      <td>member</td>\n",
       "      <td>34.666667</td>\n",
       "      <td>4</td>\n",
       "    </tr>\n",
       "    <tr>\n",
       "      <th>831</th>\n",
       "      <td>4D149B57532FE9C9</td>\n",
       "      <td>classic_bike</td>\n",
       "      <td>2023-06-30 09:53:16</td>\n",
       "      <td>2023-06-30 09:53:38</td>\n",
       "      <td>Western Ave &amp; Roscoe St</td>\n",
       "      <td>15634</td>\n",
       "      <td>Western Ave &amp; Roscoe St</td>\n",
       "      <td>15634</td>\n",
       "      <td>41.943034</td>\n",
       "      <td>-87.687288</td>\n",
       "      <td>41.943034</td>\n",
       "      <td>-87.687288</td>\n",
       "      <td>member</td>\n",
       "      <td>0.366667</td>\n",
       "      <td>6</td>\n",
       "    </tr>\n",
       "    <tr>\n",
       "      <th>844</th>\n",
       "      <td>BAE48AFCA5C36414</td>\n",
       "      <td>classic_bike</td>\n",
       "      <td>2023-06-21 13:23:57</td>\n",
       "      <td>2023-06-21 13:24:16</td>\n",
       "      <td>Cottage Grove Ave &amp; 51st St</td>\n",
       "      <td>TA1309000067</td>\n",
       "      <td>Cottage Grove Ave &amp; 51st St</td>\n",
       "      <td>TA1309000067</td>\n",
       "      <td>41.803038</td>\n",
       "      <td>-87.606615</td>\n",
       "      <td>41.803038</td>\n",
       "      <td>-87.606615</td>\n",
       "      <td>member</td>\n",
       "      <td>0.316667</td>\n",
       "      <td>4</td>\n",
       "    </tr>\n",
       "    <tr>\n",
       "      <th>845</th>\n",
       "      <td>E3491C5273700783</td>\n",
       "      <td>classic_bike</td>\n",
       "      <td>2023-06-21 13:24:46</td>\n",
       "      <td>2023-06-21 13:40:47</td>\n",
       "      <td>Cottage Grove Ave &amp; 51st St</td>\n",
       "      <td>TA1309000067</td>\n",
       "      <td>Cottage Grove Ave &amp; 51st St</td>\n",
       "      <td>TA1309000067</td>\n",
       "      <td>41.803038</td>\n",
       "      <td>-87.606615</td>\n",
       "      <td>41.803038</td>\n",
       "      <td>-87.606615</td>\n",
       "      <td>member</td>\n",
       "      <td>16.016667</td>\n",
       "      <td>4</td>\n",
       "    </tr>\n",
       "  </tbody>\n",
       "</table>\n",
       "</div>"
      ],
      "text/plain": [
       "              ride_id  rideable_type          started_at            ended_at  \\\n",
       "554  055E6783FCD761FD  electric_bike 2023-06-06 20:58:13 2023-06-06 21:04:00   \n",
       "707  65BC2A1FC12CFFA4   classic_bike 2023-06-28 18:21:26 2023-06-28 18:56:06   \n",
       "831  4D149B57532FE9C9   classic_bike 2023-06-30 09:53:16 2023-06-30 09:53:38   \n",
       "844  BAE48AFCA5C36414   classic_bike 2023-06-21 13:23:57 2023-06-21 13:24:16   \n",
       "845  E3491C5273700783   classic_bike 2023-06-21 13:24:46 2023-06-21 13:40:47   \n",
       "\n",
       "                 start_station_name start_station_id  \\\n",
       "554  California Ave & Milwaukee Ave            13084   \n",
       "707     Cottage Grove Ave & 51st St     TA1309000067   \n",
       "831         Western Ave & Roscoe St            15634   \n",
       "844     Cottage Grove Ave & 51st St     TA1309000067   \n",
       "845     Cottage Grove Ave & 51st St     TA1309000067   \n",
       "\n",
       "                 end_station_name end_station_id  start_lat  start_lng  \\\n",
       "554  California Ave & Division St          13256  41.922618 -87.697106   \n",
       "707   Cottage Grove Ave & 51st St   TA1309000067  41.803038 -87.606615   \n",
       "831       Western Ave & Roscoe St          15634  41.943034 -87.687288   \n",
       "844   Cottage Grove Ave & 51st St   TA1309000067  41.803038 -87.606615   \n",
       "845   Cottage Grove Ave & 51st St   TA1309000067  41.803038 -87.606615   \n",
       "\n",
       "       end_lat    end_lng member_casual  ride_length_min  day_of_week  \n",
       "554  41.903029 -87.697474        member         5.783333            3  \n",
       "707  41.803038 -87.606615        member        34.666667            4  \n",
       "831  41.943034 -87.687288        member         0.366667            6  \n",
       "844  41.803038 -87.606615        member         0.316667            4  \n",
       "845  41.803038 -87.606615        member        16.016667            4  "
      ]
     },
     "execution_count": 22,
     "metadata": {},
     "output_type": "execute_result"
    }
   ],
   "source": [
    "df.head()"
   ]
  },
  {
   "cell_type": "code",
   "execution_count": 23,
   "id": "313223be-8db4-4972-b928-01c228fa32c3",
   "metadata": {},
   "outputs": [
    {
     "name": "stdout",
     "output_type": "stream",
     "text": [
      "<class 'pandas.core.frame.DataFrame'>\n",
      "Index: 3872612 entries, 554 to 5133781\n",
      "Data columns (total 15 columns):\n",
      " #   Column              Dtype         \n",
      "---  ------              -----         \n",
      " 0   ride_id             object        \n",
      " 1   rideable_type       object        \n",
      " 2   started_at          datetime64[ns]\n",
      " 3   ended_at            datetime64[ns]\n",
      " 4   start_station_name  object        \n",
      " 5   start_station_id    object        \n",
      " 6   end_station_name    object        \n",
      " 7   end_station_id      object        \n",
      " 8   start_lat           float64       \n",
      " 9   start_lng           float64       \n",
      " 10  end_lat             float64       \n",
      " 11  end_lng             float64       \n",
      " 12  member_casual       object        \n",
      " 13  ride_length_min     float64       \n",
      " 14  day_of_week         int64         \n",
      "dtypes: datetime64[ns](2), float64(5), int64(1), object(7)\n",
      "memory usage: 472.7+ MB\n"
     ]
    }
   ],
   "source": [
    "df.info()"
   ]
  },
  {
   "cell_type": "markdown",
   "id": "a2123fdb-8eae-4a9d-b4e4-a2e3e6db9e75",
   "metadata": {},
   "source": [
    "# Analyze\n",
    "Now the data is ready to be explored and get insights.\n",
    "\n",
    "#### Key Tasks\n",
    "* Aggregate your data so it's useful and accessible\n",
    "* Organize and format your data\n",
    "* Perform calculations\n",
    "* Identify trends and relationships\n",
    "\n",
    "#### Deliverables\n",
    "* A summary of your analysis\n",
    "\n",
    "The 'Analyze' phase starts from here"
   ]
  },
  {
   "cell_type": "code",
   "execution_count": 24,
   "id": "df4441fa-31df-41ab-ac00-4e3f4a5a4032",
   "metadata": {},
   "outputs": [],
   "source": [
    "df = df[df['ride_length_min']>=0].round(2)"
   ]
  },
  {
   "cell_type": "code",
   "execution_count": 25,
   "id": "d29840e3-810d-49e6-a643-c97bc651ff18",
   "metadata": {},
   "outputs": [],
   "source": [
    "df['ride_length_min'] = df['ride_length_min'].round(2)"
   ]
  },
  {
   "cell_type": "code",
   "execution_count": 26,
   "id": "ee6cdc22-cc71-4a5d-bcee-2dd6ab2bc909",
   "metadata": {},
   "outputs": [
    {
     "data": {
      "text/plain": [
       "count    3872544.00\n",
       "mean          16.11\n",
       "std           36.67\n",
       "min            0.00\n",
       "25%            5.68\n",
       "50%            9.88\n",
       "75%           17.58\n",
       "max        11152.27\n",
       "Name: ride_length_min, dtype: float64"
      ]
     },
     "execution_count": 26,
     "metadata": {},
     "output_type": "execute_result"
    }
   ],
   "source": [
    "df['ride_length_min'].describe().round(2)"
   ]
  },
  {
   "cell_type": "markdown",
   "id": "73386b75-4c5c-4dce-a093-9131969268a8",
   "metadata": {},
   "source": [
    "### Compare members and casual users"
   ]
  },
  {
   "cell_type": "code",
   "execution_count": 27,
   "id": "924971c7-c552-4b92-b107-5218c90e52c0",
   "metadata": {},
   "outputs": [
    {
     "data": {
      "text/plain": [
       "member_casual\n",
       "casual    1347602\n",
       "member    2524942\n",
       "Name: ride_id, dtype: int64"
      ]
     },
     "execution_count": 27,
     "metadata": {},
     "output_type": "execute_result"
    }
   ],
   "source": [
    "df.groupby('member_casual').ride_id.count()"
   ]
  },
  {
   "cell_type": "code",
   "execution_count": 40,
   "id": "580a6c4b-1b1e-4190-981a-c0ecf1912d6a",
   "metadata": {},
   "outputs": [
    {
     "data": {
      "text/html": [
       "<div>\n",
       "<style scoped>\n",
       "    .dataframe tbody tr th:only-of-type {\n",
       "        vertical-align: middle;\n",
       "    }\n",
       "\n",
       "    .dataframe tbody tr th {\n",
       "        vertical-align: top;\n",
       "    }\n",
       "\n",
       "    .dataframe thead th {\n",
       "        text-align: right;\n",
       "    }\n",
       "</style>\n",
       "<table border=\"1\" class=\"dataframe\">\n",
       "  <thead>\n",
       "    <tr style=\"text-align: right;\">\n",
       "      <th></th>\n",
       "      <th>member_casual</th>\n",
       "      <th>count</th>\n",
       "    </tr>\n",
       "  </thead>\n",
       "  <tbody>\n",
       "    <tr>\n",
       "      <th>0</th>\n",
       "      <td>casual</td>\n",
       "      <td>1347602</td>\n",
       "    </tr>\n",
       "    <tr>\n",
       "      <th>1</th>\n",
       "      <td>member</td>\n",
       "      <td>2524942</td>\n",
       "    </tr>\n",
       "  </tbody>\n",
       "</table>\n",
       "</div>"
      ],
      "text/plain": [
       "  member_casual    count\n",
       "0        casual  1347602\n",
       "1        member  2524942"
      ]
     },
     "execution_count": 40,
     "metadata": {},
     "output_type": "execute_result"
    }
   ],
   "source": [
    "# total = df['ride_id'].count()\n",
    "# group_total = df.groupby('member_casual')['ride_id'].count()\n",
    "# print(group_total)\n",
    "# percentages = group_total/total * 100\n",
    "# print(percentages)\n",
    "ride_counts = df.groupby('member_casual')['ride_id'].count().reset_index()\n",
    "# ride_counts.head()\n",
    "ride_counts.rename(columns={'ride_id':'count'},inplace=True)\n",
    "ride_counts.head()"
   ]
  },
  {
   "cell_type": "code",
   "execution_count": 42,
   "id": "2fb153fb-18e8-4446-8920-67b0a85e0836",
   "metadata": {},
   "outputs": [
    {
     "data": {
      "text/html": [
       "<div>\n",
       "<style scoped>\n",
       "    .dataframe tbody tr th:only-of-type {\n",
       "        vertical-align: middle;\n",
       "    }\n",
       "\n",
       "    .dataframe tbody tr th {\n",
       "        vertical-align: top;\n",
       "    }\n",
       "\n",
       "    .dataframe thead th {\n",
       "        text-align: right;\n",
       "    }\n",
       "</style>\n",
       "<table border=\"1\" class=\"dataframe\">\n",
       "  <thead>\n",
       "    <tr style=\"text-align: right;\">\n",
       "      <th></th>\n",
       "      <th>member_casual</th>\n",
       "      <th>count</th>\n",
       "      <th>percentage</th>\n",
       "    </tr>\n",
       "  </thead>\n",
       "  <tbody>\n",
       "    <tr>\n",
       "      <th>0</th>\n",
       "      <td>casual</td>\n",
       "      <td>1347602</td>\n",
       "      <td>34.798882</td>\n",
       "    </tr>\n",
       "    <tr>\n",
       "      <th>1</th>\n",
       "      <td>member</td>\n",
       "      <td>2524942</td>\n",
       "      <td>65.201118</td>\n",
       "    </tr>\n",
       "  </tbody>\n",
       "</table>\n",
       "</div>"
      ],
      "text/plain": [
       "  member_casual    count  percentage\n",
       "0        casual  1347602   34.798882\n",
       "1        member  2524942   65.201118"
      ]
     },
     "execution_count": 42,
     "metadata": {},
     "output_type": "execute_result"
    }
   ],
   "source": [
    "total_count = ride_counts['count'].sum()\n",
    "ride_counts['percentage'] = ride_counts['count']/total_count * 100\n",
    "ride_counts.head()"
   ]
  },
  {
   "cell_type": "code",
   "execution_count": 51,
   "id": "815c9dbd-bff4-44a7-ae4c-4f462d1da30d",
   "metadata": {},
   "outputs": [
    {
     "data": {
      "text/plain": [
       "Text(0.5, 1.0, 'Members vs Casual Distribution')"
      ]
     },
     "execution_count": 51,
     "metadata": {},
     "output_type": "execute_result"
    },
    {
     "data": {
      "image/png": "[encoded data removed]",
      "text/plain": [
       "<Figure size 640x480 with 1 Axes>"
      ]
     },
     "metadata": {},
     "output_type": "display_data"
    }
   ],
   "source": [
    "sns.barplot(data=ride_counts,x='member_casual',y='percentage')\n",
    "plt.xlabel('Member/Casual')\n",
    "plt.ylabel('Percentage(%)')\n",
    "plt.title('Members vs Casual Distribution')"
   ]
  },
  {
   "cell_type": "markdown",
   "id": "adba9427-21b8-46aa-b07e-4e2b2e5ed915",
   "metadata": {},
   "source": [
    "The above chart says that ~65% of datasets are members and the rest ~35% belong to casual riders. Also it is clearly visible that in the \n",
    "past 11 months, members used ~30% more ride-shares than casual members"
   ]
  },
  {
   "cell_type": "markdown",
   "id": "b417d985-3c13-4c85-9995-2fcabdea97ef",
   "metadata": {},
   "source": [
    "### See total rides and average ride time by each day for members vs casual riders"
   ]
  },
  {
   "cell_type": "code",
   "execution_count": 62,
   "id": "b22112b8-2097-4965-b9b6-234e5f9f3cf2",
   "metadata": {},
   "outputs": [
    {
     "data": {
      "text/html": [
       "<div>\n",
       "<style scoped>\n",
       "    .dataframe tbody tr th:only-of-type {\n",
       "        vertical-align: middle;\n",
       "    }\n",
       "\n",
       "    .dataframe tbody tr th {\n",
       "        vertical-align: top;\n",
       "    }\n",
       "\n",
       "    .dataframe thead th {\n",
       "        text-align: right;\n",
       "    }\n",
       "</style>\n",
       "<table border=\"1\" class=\"dataframe\">\n",
       "  <thead>\n",
       "    <tr style=\"text-align: right;\">\n",
       "      <th></th>\n",
       "      <th>member_casual</th>\n",
       "      <th>day_of_week</th>\n",
       "      <th>no_of_rides</th>\n",
       "      <th>avg_ride_length</th>\n",
       "    </tr>\n",
       "  </thead>\n",
       "  <tbody>\n",
       "    <tr>\n",
       "      <th>0</th>\n",
       "      <td>casual</td>\n",
       "      <td>1</td>\n",
       "      <td>227045</td>\n",
       "      <td>26.886605</td>\n",
       "    </tr>\n",
       "    <tr>\n",
       "      <th>1</th>\n",
       "      <td>casual</td>\n",
       "      <td>2</td>\n",
       "      <td>160015</td>\n",
       "      <td>22.786268</td>\n",
       "    </tr>\n",
       "    <tr>\n",
       "      <th>2</th>\n",
       "      <td>casual</td>\n",
       "      <td>3</td>\n",
       "      <td>157329</td>\n",
       "      <td>20.856031</td>\n",
       "    </tr>\n",
       "    <tr>\n",
       "      <th>3</th>\n",
       "      <td>casual</td>\n",
       "      <td>4</td>\n",
       "      <td>152516</td>\n",
       "      <td>19.704203</td>\n",
       "    </tr>\n",
       "    <tr>\n",
       "      <th>4</th>\n",
       "      <td>casual</td>\n",
       "      <td>5</td>\n",
       "      <td>169603</td>\n",
       "      <td>19.760870</td>\n",
       "    </tr>\n",
       "    <tr>\n",
       "      <th>5</th>\n",
       "      <td>casual</td>\n",
       "      <td>6</td>\n",
       "      <td>198458</td>\n",
       "      <td>22.476042</td>\n",
       "    </tr>\n",
       "    <tr>\n",
       "      <th>6</th>\n",
       "      <td>casual</td>\n",
       "      <td>7</td>\n",
       "      <td>282636</td>\n",
       "      <td>26.121755</td>\n",
       "    </tr>\n",
       "    <tr>\n",
       "      <th>7</th>\n",
       "      <td>member</td>\n",
       "      <td>1</td>\n",
       "      <td>275876</td>\n",
       "      <td>13.811421</td>\n",
       "    </tr>\n",
       "    <tr>\n",
       "      <th>8</th>\n",
       "      <td>member</td>\n",
       "      <td>2</td>\n",
       "      <td>364789</td>\n",
       "      <td>11.867039</td>\n",
       "    </tr>\n",
       "    <tr>\n",
       "      <th>9</th>\n",
       "      <td>member</td>\n",
       "      <td>3</td>\n",
       "      <td>400841</td>\n",
       "      <td>11.916384</td>\n",
       "    </tr>\n",
       "    <tr>\n",
       "      <th>10</th>\n",
       "      <td>member</td>\n",
       "      <td>4</td>\n",
       "      <td>396657</td>\n",
       "      <td>11.793734</td>\n",
       "    </tr>\n",
       "    <tr>\n",
       "      <th>11</th>\n",
       "      <td>member</td>\n",
       "      <td>5</td>\n",
       "      <td>409257</td>\n",
       "      <td>11.699846</td>\n",
       "    </tr>\n",
       "    <tr>\n",
       "      <th>12</th>\n",
       "      <td>member</td>\n",
       "      <td>6</td>\n",
       "      <td>356784</td>\n",
       "      <td>12.157987</td>\n",
       "    </tr>\n",
       "    <tr>\n",
       "      <th>13</th>\n",
       "      <td>member</td>\n",
       "      <td>7</td>\n",
       "      <td>320738</td>\n",
       "      <td>13.788795</td>\n",
       "    </tr>\n",
       "  </tbody>\n",
       "</table>\n",
       "</div>"
      ],
      "text/plain": [
       "   member_casual  day_of_week  no_of_rides  avg_ride_length\n",
       "0         casual            1       227045        26.886605\n",
       "1         casual            2       160015        22.786268\n",
       "2         casual            3       157329        20.856031\n",
       "3         casual            4       152516        19.704203\n",
       "4         casual            5       169603        19.760870\n",
       "5         casual            6       198458        22.476042\n",
       "6         casual            7       282636        26.121755\n",
       "7         member            1       275876        13.811421\n",
       "8         member            2       364789        11.867039\n",
       "9         member            3       400841        11.916384\n",
       "10        member            4       396657        11.793734\n",
       "11        member            5       409257        11.699846\n",
       "12        member            6       356784        12.157987\n",
       "13        member            7       320738        13.788795"
      ]
     },
     "execution_count": 62,
     "metadata": {},
     "output_type": "execute_result"
    }
   ],
   "source": [
    "ride_counts_day = df.groupby(['member_casual','day_of_week'])[['ride_id','ride_length_min']].agg(\n",
    "                    no_of_rides=('ride_id','count'),\n",
    "                    avg_ride_length=('ride_length_min','mean')).reset_index()\n",
    "# ride_counts_day.rename(columns={'ride_id':'no_of_rides'},inplace=True)\n",
    "ride_counts_day"
   ]
  },
  {
   "cell_type": "code",
   "execution_count": 64,
   "id": "8093c663-6796-46c9-8412-413a4432fdba",
   "metadata": {},
   "outputs": [
    {
     "data": {
      "text/plain": [
       "Text(0.5, 1.0, 'Total rides by Members and Casual riders vs Day of the week')"
      ]
     },
     "execution_count": 64,
     "metadata": {},
     "output_type": "execute_result"
    },
    {
     "data": {
      "image/png": "[encoded data removed]",
      "text/plain": [
       "<Figure size 640x480 with 1 Axes>"
      ]
     },
     "metadata": {},
     "output_type": "display_data"
    }
   ],
   "source": [
    "sns.barplot(data=ride_counts_day,x='day_of_week',y='no_of_rides',hue='member_casual')\n",
    "plt.title(\"Total rides by Members and Casual riders vs Day of the week\")"
   ]
  },
  {
   "cell_type": "code",
   "execution_count": 65,
   "id": "58afffff-61a2-43ae-a7c2-cc3970d152bd",
   "metadata": {},
   "outputs": [
    {
     "data": {
      "text/plain": [
       "Text(0, 0.5, 'average ride length')"
      ]
     },
     "execution_count": 65,
     "metadata": {},
     "output_type": "execute_result"
    },
    {
     "data": {
      "image/png": "[encoded data removed]",
      "text/plain": [
       "<Figure size 640x480 with 1 Axes>"
      ]
     },
     "metadata": {},
     "output_type": "display_data"
    }
   ],
   "source": [
    "sns.barplot(data=ride_counts_day,x='day_of_week',y='avg_ride_length',hue='member_casual')\n",
    "plt.title(\"Total rides by Members and Casual riders vs Average ride length\")\n",
    "plt.xlabel(\"Day of the Week\")\n",
    "plt.ylabel(\"average ride length\")"
   ]
  },
  {
   "cell_type": "markdown",
   "id": "1e224468-4d98-4f35-a78a-35c237c2b95c",
   "metadata": {},
   "source": [
    "* From the first chart, members tooks ride consistently throughout the week, but there is a decline in the weekends, whereas the casual\n",
    "  riders inclined mostly in the weekends.\n",
    "* The average ride length for casuals are much higher compartively to memers. Also it can be seen that the average ride length of casuals are\n",
    "  higher in the weekends along with the total no. of rides, whereas the average ride length remained consistent for the member riders."
   ]
  },
  {
   "cell_type": "markdown",
   "id": "e0cd6ab8-be73-4bd8-9f44-ba563bcb0479",
   "metadata": {},
   "source": [
    "#### Comparing bike rideable types"
   ]
  },
  {
   "cell_type": "code",
   "execution_count": 70,
   "id": "852e0378-3a59-4508-9734-d2b38b42c636",
   "metadata": {},
   "outputs": [
    {
     "data": {
      "text/html": [
       "<div>\n",
       "<style scoped>\n",
       "    .dataframe tbody tr th:only-of-type {\n",
       "        vertical-align: middle;\n",
       "    }\n",
       "\n",
       "    .dataframe tbody tr th {\n",
       "        vertical-align: top;\n",
       "    }\n",
       "\n",
       "    .dataframe thead th {\n",
       "        text-align: right;\n",
       "    }\n",
       "</style>\n",
       "<table border=\"1\" class=\"dataframe\">\n",
       "  <thead>\n",
       "    <tr style=\"text-align: right;\">\n",
       "      <th></th>\n",
       "      <th>member_casual</th>\n",
       "      <th>rideable_type</th>\n",
       "      <th>no_of_rides</th>\n",
       "    </tr>\n",
       "  </thead>\n",
       "  <tbody>\n",
       "    <tr>\n",
       "      <th>0</th>\n",
       "      <td>casual</td>\n",
       "      <td>classic_bike</td>\n",
       "      <td>817957</td>\n",
       "    </tr>\n",
       "    <tr>\n",
       "      <th>1</th>\n",
       "      <td>casual</td>\n",
       "      <td>docked_bike</td>\n",
       "      <td>47879</td>\n",
       "    </tr>\n",
       "    <tr>\n",
       "      <th>2</th>\n",
       "      <td>casual</td>\n",
       "      <td>electric_bike</td>\n",
       "      <td>481766</td>\n",
       "    </tr>\n",
       "    <tr>\n",
       "      <th>3</th>\n",
       "      <td>member</td>\n",
       "      <td>classic_bike</td>\n",
       "      <td>1699140</td>\n",
       "    </tr>\n",
       "    <tr>\n",
       "      <th>4</th>\n",
       "      <td>member</td>\n",
       "      <td>electric_bike</td>\n",
       "      <td>825802</td>\n",
       "    </tr>\n",
       "  </tbody>\n",
       "</table>\n",
       "</div>"
      ],
      "text/plain": [
       "  member_casual  rideable_type  no_of_rides\n",
       "0        casual   classic_bike       817957\n",
       "1        casual    docked_bike        47879\n",
       "2        casual  electric_bike       481766\n",
       "3        member   classic_bike      1699140\n",
       "4        member  electric_bike       825802"
      ]
     },
     "execution_count": 70,
     "metadata": {},
     "output_type": "execute_result"
    }
   ],
   "source": [
    "rideable_types = df.groupby(['member_casual','rideable_type'])['ride_id'].count().reset_index()\n",
    "rideable_types.rename(columns={'ride_id':'no_of_rides'},inplace=True)\n",
    "rideable_types"
   ]
  },
  {
   "cell_type": "code",
   "execution_count": 71,
   "id": "fd7cb2bf-c414-4f15-978e-5fc9b6775aae",
   "metadata": {},
   "outputs": [
    {
     "data": {
      "text/plain": [
       "Text(0, 0.5, 'No. of Rides')"
      ]
     },
     "execution_count": 71,
     "metadata": {},
     "output_type": "execute_result"
    },
    {
     "data": {
      "image/png": "[encoded data removed]",
      "text/plain": [
       "<Figure size 640x480 with 1 Axes>"
      ]
     },
     "metadata": {},
     "output_type": "display_data"
    }
   ],
   "source": [
    "sns.barplot(data=rideable_types,x='rideable_type',y='no_of_rides',hue='member_casual')\n",
    "plt.xlabel('Bike type')\n",
    "plt.ylabel('No. of Rides')"
   ]
  },
  {
   "cell_type": "markdown",
   "id": "de062a9d-9083-4f5d-a479-499ff2c765d7",
   "metadata": {},
   "source": [
    "From the above chart we can see that memers uses mostly classic bike, followed by electric bike. Docked bike are favoured by casuals only."
   ]
  },
  {
   "cell_type": "markdown",
   "id": "06f268e1-c2ae-4f15-8211-2d7a9da729ca",
   "metadata": {},
   "source": [
    "# Share\n",
    "This phase is for sharing the insights gained from analyzing the dataset through presentation or any other methods. But I am doing this \n",
    "in Kaggle, so all the sharing will be done through here.\n",
    "\n",
    "#### Key Tasks\n",
    "* Determine the best way to share your findings\n",
    "* Create effective data visualizations\n",
    "* Present your findings\n",
    "* Ensure your work is accessible\n",
    "#### Deliverables\n",
    "* Support visualizations and key findings\n",
    "\n",
    "#### Insights\n",
    "* ~30% of difference in member vs casual ride share with members being the highest\n",
    "* Less usage of members in weekends.\n",
    "* More usage of casuals in weekends, probably going out for some fun.\n",
    "* More ride lengths of casuals, especially on weekends, must be taking single day passes and riding.\n",
    "* Classic bike is the most preferrable for both the riders, followed by electric bike\n"
   ]
  },
  {
   "cell_type": "markdown",
   "id": "83c60d5c-16d1-40cd-bfc4-1f235717f8d1",
   "metadata": {},
   "source": [
    "# Act\n",
    "Act phase will be done by the Cyclistic's executive team, Director of Marketing (Lily Moreno), Marketing Analytics team on the basis of my analysis. (Data-driven decision making)\n",
    "\n",
    "#### Deliverables\n",
    "* Your top three recommendations based on your analysis\n",
    "  * Offer a weekend-only membership at a different price point than the full annual membership.\n",
    "  * Increasing the no. of classic bike would be a profitable situation. Along with that coupons and discounts can be handed out along with\n",
    "    annual subscription / weekend-only membership\n",
    "  * Create marketing campaigns which can be sent via email, or advertisement in the docking stations explaining why annual member is\n",
    "    beneficial.\n",
    "\n",
    "\n",
    "\n",
    "\n",
    "### This brings to the end of the case study. I hope you like it. Thank you!"
   ]
  },
  {
   "cell_type": "code",
   "execution_count": null,
   "id": "dee88c82-fb6f-4661-a410-b3c8f0e9485e",
   "metadata": {},
   "outputs": [],
   "source": []
  }
 ],
 "metadata": {
  "kernelspec": {
   "display_name": "Python 3 (ipykernel)",
   "language": "python",
   "name": "python3"
  },
  "language_info": {
   "codemirror_mode": {
    "name": "ipython",
    "version": 3
   },
   "file_extension": ".py",
   "mimetype": "text/x-python",
   "name": "python",
   "nbconvert_exporter": "python",
   "pygments_lexer": "ipython3",
   "version": "3.12.3"
  }
 },
 "nbformat": 4,
 "nbformat_minor": 5
}
